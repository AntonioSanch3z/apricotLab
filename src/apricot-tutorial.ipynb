{
 "cells": [
  {
   "cell_type": "markdown",
   "metadata": {},
   "source": [
    "#### Welcome to the APRICOT extension. This plugin designed for Jupyter Notebooks allows you to deploy and manage virtual infrastructures using the Infrastructure Manager. In this notebook, we will cover the basics to help you get started with APRICOT.\n",
    "\n",
    "First of all, let's create create a simple infrastructure to execute the following example notebook. To do so, click in the **Infrastructure deployment** button in the toolbar above and follow the steps to deploy your first infrastructure. Any infrastructure should be able to execute all commands.\n",
    "\n",
    "Once the infrastructure has been deployed, we can start playing with the notebook."
   ]
  },
  {
   "cell_type": "markdown",
   "metadata": {},
   "source": [
    "Before using any magic command, we have to load apricot magics:"
   ]
  },
  {
   "cell_type": "code",
   "execution_count": 1,
   "metadata": {
    "scrolled": true
   },
   "outputs": [],
   "source": [
    "%reload_ext apricot_magics"
   ]
  },
  {
   "cell_type": "markdown",
   "metadata": {},
   "source": [
    "We can check the status of all the infrastructures we have already deployed, along with their IDs and more information about them:"
   ]
  },
  {
   "cell_type": "code",
   "execution_count": 2,
   "metadata": {},
   "outputs": [
    {
     "name": "stdout",
     "output_type": "stream",
     "text": [
      "+------------+--------------------------------------+---------------+------------+\n",
      "| Name       | Infrastructure ID                    | IP            | State      |\n",
      "+============+======================================+===============+============+\n",
      "| infra-name | f32cf700-353f-11ef-8d60-e687f511a619 | 158.42.104.51 | configured |\n",
      "+------------+--------------------------------------+---------------+------------+\n"
     ]
    }
   ],
   "source": [
    "%apricot_ls"
   ]
  },
  {
   "cell_type": "markdown",
   "metadata": {},
   "source": [
    "To begin with the tutorial, please paste the infrastructure ID inside the **infrastructure_id** variable:"
   ]
  },
  {
   "cell_type": "code",
   "execution_count": 3,
   "metadata": {},
   "outputs": [],
   "source": [
    "infrastructure_id = \"f32cf700-353f-11ef-8d60-e687f511a619\"\n",
    "vm_id = \"0\""
   ]
  },
  {
   "cell_type": "markdown",
   "metadata": {},
   "source": [
    "Using the ID of our new infrastructure, we can get more information about it:"
   ]
  },
  {
   "cell_type": "code",
   "execution_count": 4,
   "metadata": {},
   "outputs": [
    {
     "name": "stdout",
     "output_type": "stream",
     "text": [
      "+---------+---------------+------------+------------+------------------------------+\n",
      "|   VM ID | IP Address    | Status     | Provider   | OS Image                     |\n",
      "+=========+===============+============+============+==============================+\n",
      "|       0 | 158.42.104.51 | configured | OpenNebula | one://ramses.i3m.upv.es/1593 |\n",
      "+---------+---------------+------------+------------+------------------------------+\n"
     ]
    }
   ],
   "source": [
    "%apricot_vmls $infrastructure_id"
   ]
  },
  {
   "cell_type": "markdown",
   "metadata": {},
   "source": [
    "We can execute different Linux commands on the virtual machines using the infrastructure ID and the ID of one of its nodes. Let's practice it by creating a file named \"test123.txt\" on the first node:"
   ]
  },
  {
   "cell_type": "code",
   "execution_count": 5,
   "metadata": {},
   "outputs": [
    {
     "name": "stdout",
     "output_type": "stream",
     "text": [
      "\n"
     ]
    },
    {
     "data": {
      "text/plain": [
       "'Done'"
      ]
     },
     "execution_count": 5,
     "metadata": {},
     "output_type": "execute_result"
    }
   ],
   "source": [
    "%apricot exec $infrastructure_id $vm_id touch \"test123.txt\""
   ]
  },
  {
   "cell_type": "markdown",
   "metadata": {},
   "source": [
    "We can check the new file in the VM:"
   ]
  },
  {
   "cell_type": "code",
   "execution_count": 6,
   "metadata": {},
   "outputs": [
    {
     "name": "stdout",
     "output_type": "stream",
     "text": [
      "one-context_6.2.0-1.deb\n",
      "snap\n",
      "test123.txt\n",
      "\n"
     ]
    },
    {
     "data": {
      "text/plain": [
       "'Done'"
      ]
     },
     "execution_count": 6,
     "metadata": {},
     "output_type": "execute_result"
    }
   ],
   "source": [
    "%apricot exec $infrastructure_id $vm_id ls"
   ]
  },
  {
   "cell_type": "markdown",
   "metadata": {},
   "source": [
    "Let's download the file to our local storage:"
   ]
  },
  {
   "cell_type": "code",
   "execution_count": 7,
   "metadata": {},
   "outputs": [
    {
     "name": "stdout",
     "output_type": "stream",
     "text": [
      "\n"
     ]
    },
    {
     "data": {
      "text/plain": [
       "'Done'"
      ]
     },
     "execution_count": 7,
     "metadata": {},
     "output_type": "execute_result"
    }
   ],
   "source": [
    "%apricot_download $infrastructure_id $vm_id test123.txt ."
   ]
  },
  {
   "cell_type": "code",
   "execution_count": 8,
   "metadata": {},
   "outputs": [
    {
     "name": "stdout",
     "output_type": "stream",
     "text": [
      "__pycache__\n",
      "apricot-tutorial.ipynb\n",
      "apricot_magics.py\n",
      "buttons.ts\n",
      "deploymentMenu.ts\n",
      "index.ts\n",
      "listDeployments.ts\n",
      "test123.txt\n"
     ]
    }
   ],
   "source": [
    "%%bash\n",
    "ls"
   ]
  },
  {
   "cell_type": "markdown",
   "metadata": {},
   "source": [
    "Once we have finished playing with our infrastructure, we can destroy it:"
   ]
  },
  {
   "cell_type": "code",
   "execution_count": 9,
   "metadata": {},
   "outputs": [
    {
     "name": "stdout",
     "output_type": "stream",
     "text": [
      "Destroying...\n",
      "Secure connection with: https://im.egi.eu/im           \n",
      "Infrastructure successfully destroyed\n",
      "\n"
     ]
    },
    {
     "data": {
      "text/plain": [
       "'Done'"
      ]
     },
     "execution_count": 9,
     "metadata": {},
     "output_type": "execute_result"
    }
   ],
   "source": [
    "%apricot destroy $infrastructure_id"
   ]
  },
  {
   "cell_type": "markdown",
   "metadata": {},
   "source": [
    "Congratulations! You finished the tutorial and now you are free to keep exploring and exploiting the APRICOT extension!"
   ]
  }
 ],
 "metadata": {
  "kernelspec": {
   "display_name": "Python 3 (ipykernel)",
   "language": "python",
   "name": "python3"
  },
  "language_info": {
   "codemirror_mode": {
    "name": "ipython",
    "version": 3
   },
   "file_extension": ".py",
   "mimetype": "text/x-python",
   "name": "python",
   "nbconvert_exporter": "python",
   "pygments_lexer": "ipython3",
   "version": "3.12.3"
  }
 },
 "nbformat": 4,
 "nbformat_minor": 4
}
